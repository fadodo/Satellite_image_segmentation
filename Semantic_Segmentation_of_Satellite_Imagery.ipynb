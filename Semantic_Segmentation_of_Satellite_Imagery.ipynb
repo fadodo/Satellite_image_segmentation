{
  "nbformat": 4,
  "nbformat_minor": 0,
  "metadata": {
    "colab": {
      "provenance": [],
      "gpuType": "T4",
      "mount_file_id": "12nQrCzOsH_CSLzQrqqO73u7BFr_Evamy",
      "authorship_tag": "ABX9TyOmlyBX4av0W6vuG4Pdztsv",
      "include_colab_link": true
    },
    "kernelspec": {
      "name": "python3",
      "display_name": "Python 3"
    },
    "language_info": {
      "name": "python"
    },
    "accelerator": "GPU"
  },
  "cells": [
    {
      "cell_type": "markdown",
      "metadata": {
        "id": "view-in-github",
        "colab_type": "text"
      },
      "source": [
        "<a href=\"https://colab.research.google.com/github/fadodo/Satellite_image_segmentation/blob/main/Semantic_Segmentation_of_Satellite_Imagery.ipynb\" target=\"_parent\"><img src=\"https://colab.research.google.com/assets/colab-badge.svg\" alt=\"Open In Colab\"/></a>"
      ]
    },
    {
      "cell_type": "markdown",
      "source": [
        "# Segmentation of Satellite Imagery using CNNs and SAM\n",
        "\n",
        "\n",
        "The goal of this Google Colab project is to accurately automatically segment a satellite imagery.\n",
        "\n",
        "To achieve this, a Convolutional Neural Network (CNN) is employed in conjunction with the [Segment Anything Model (SAM)](https://segment-anything.com/), a sophisticated segmentation algorithm known for its strong performance.\n",
        "\n",
        "This Python-based implementation utilizes the leafmap library to handle and process the geospatial data, allowing users to select specific regions of interest for analysis. The algorithm has demonstrated its effectiveness in segmenting the differents objects mainly buildings.\n",
        "\n",
        "\n",
        "```\n",
        "# Make sure you use GPU runtime for this notebook. For Google Colab, go to Runtime -> Change runtime type and select GPU as the hardware accelerator.\n",
        "```\n"
      ],
      "metadata": {
        "id": "Mq99D9AYmHDq"
      }
    },
    {
      "cell_type": "markdown",
      "source": [
        "# Install the necessaries libraries and packages if not yet installed\n",
        "\n",
        "`!pip list` to check installed packages"
      ],
      "metadata": {
        "id": "cQI5uolwiNI7"
      }
    },
    {
      "cell_type": "code",
      "source": [
        "!pip install leafmap segment-geospatial groundingdino-py localtileserver -q"
      ],
      "metadata": {
        "collapsed": true,
        "id": "r4G2lddnnNM1"
      },
      "execution_count": null,
      "outputs": []
    },
    {
      "cell_type": "code",
      "source": [
        "# import the necessaries packages\n",
        "\n",
        "import os\n",
        "import leafmap\n",
        "from groundingdino.util.slconfig import SLConfig # Import SLConfig\n",
        "from samgeo import SamGeo, tms_to_geotiff, get_basemaps"
      ],
      "metadata": {
        "collapsed": true,
        "id": "hK69hjdcm7bW"
      },
      "execution_count": null,
      "outputs": []
    },
    {
      "cell_type": "markdown",
      "source": [
        "Create an interactive map with leafmap"
      ],
      "metadata": {
        "id": "igTbHDAgo6KO"
      }
    },
    {
      "cell_type": "code",
      "source": [
        "# Leafmap for visualization\n",
        "map=leafmap.Map(zoom=19)\n",
        "map"
      ],
      "metadata": {
        "id": "2bjnD3rko_DY"
      },
      "execution_count": null,
      "outputs": []
    },
    {
      "cell_type": "markdown",
      "source": [
        "Get automaticaly the region of interest coordinates by drawing a box on the map"
      ],
      "metadata": {
        "id": "5tOtaN_JpJk0"
      }
    },
    {
      "cell_type": "code",
      "source": [
        "# Get the Area of Interest box coordinates\n",
        "bbox=map.user_roi_bounds()\n",
        "bbox"
      ],
      "metadata": {
        "colab": {
          "base_uri": "https://localhost:8080/"
        },
        "id": "x-iF7TkapYhi",
        "outputId": "02bd4f00-4f26-48de-9713-c022e5c9f7e6"
      },
      "execution_count": null,
      "outputs": [
        {
          "output_type": "execute_result",
          "data": {
            "text/plain": [
              "[39.2751, -6.8128, 39.2775, -6.8106]"
            ]
          },
          "metadata": {},
          "execution_count": 7
        }
      ]
    },
    {
      "cell_type": "code",
      "source": [
        "# You can also manually define the ROI coordinate as follow\n",
        "# Bbox on a small part of Dar El Salaam\n",
        "bbox = [39.2751, -6.8128, 39.2775, -6.8106]"
      ],
      "metadata": {
        "id": "hzcCHZYI91I7"
      },
      "execution_count": null,
      "outputs": []
    },
    {
      "cell_type": "markdown",
      "source": [
        "Downlading the satellite images of the ROI"
      ],
      "metadata": {
        "id": "IfvcUHg2p0xI"
      }
    },
    {
      "cell_type": "code",
      "source": [
        "# Downlading the satellite image of the ROI and mosaic it\n",
        "img=\"bimg.tif\"\n",
        "tms_to_geotiff(output=img, bbox=bbox, zoom=20, source=\"SATELLITE\", overwrite=True)"
      ],
      "metadata": {
        "collapsed": true,
        "id": "iuRdcp2sqAzN"
      },
      "execution_count": null,
      "outputs": []
    },
    {
      "cell_type": "markdown",
      "source": [
        "Display the downloaded image on the map"
      ],
      "metadata": {
        "id": "9-_Bb7ztql-2"
      }
    },
    {
      "cell_type": "code",
      "source": [
        "# Adding the satellite mosaic\n",
        "map.add_raster(img, layer_name=\"AOImage\")\n",
        "map"
      ],
      "metadata": {
        "id": "IJ653JtjqtGm"
      },
      "execution_count": null,
      "outputs": []
    },
    {
      "cell_type": "markdown",
      "source": [
        "### Initialize SAM class¶\n",
        "The main class for segmenting geospatial data with the Segment Anything Model (SAM)."
      ],
      "metadata": {
        "id": "rfp9f9RinBT7"
      }
    },
    {
      "cell_type": "code",
      "source": [
        "# Automatic parameters tunning for mask generation\n",
        "sam_kwargs = {\n",
        "    \"points_per_side\": 32,\n",
        "    \"pred_iou_thresh\": 0.86,\n",
        "    \"stability_score_thresh\": 0.92,\n",
        "    \"crop_n_layers\": 1,\n",
        "    \"crop_n_points_downscale_factor\": 2,\n",
        "    \"min_mask_region_area\": 100,\n",
        "}"
      ],
      "metadata": {
        "id": "yZyl_WVWvzVn"
      },
      "execution_count": null,
      "outputs": []
    },
    {
      "cell_type": "code",
      "source": [
        "# Initialize SAM all class\n",
        "## There a model checkpoit(default vit_h, vit_l, vit_b)\n",
        "sam = SamGeo(\n",
        "    model_type=\"vit_h\",\n",
        "    checkpoint=\"sam_vit_h_4b8939.pth\",\n",
        "    sam_kwargs=sam_kwargs,\n",
        ")"
      ],
      "metadata": {
        "id": "d-j6SwafsVMP"
      },
      "execution_count": null,
      "outputs": []
    },
    {
      "cell_type": "markdown",
      "source": [
        "### Segment the image"
      ],
      "metadata": {
        "id": "F9zS010154VF"
      }
    },
    {
      "cell_type": "code",
      "source": [
        "# Automatic mask generation\n",
        "mask=\"masks.tif\"\n",
        "sam.generate(img, output=mask, batch=True, foreground=True, erosion_kernel=(3, 3), mask_multiplier=255, unique=True)"
      ],
      "metadata": {
        "id": "V1A83d1ovJj7",
        "colab": {
          "base_uri": "https://localhost:8080/"
        },
        "outputId": "38a38175-fdc3-4070-d95a-c312ba97ff01"
      },
      "execution_count": null,
      "outputs": [
        {
          "output_type": "stream",
          "name": "stderr",
          "text": [
            "100%|██████████| 16/16 [06:07<00:00, 23.00s/it]\n"
          ]
        }
      ]
    },
    {
      "cell_type": "markdown",
      "source": [
        "### Visualize the results"
      ],
      "metadata": {
        "id": "ZFALHQEewJyO"
      }
    },
    {
      "cell_type": "code",
      "source": [
        "# Visualize the results\n",
        "# Show the binary mask or the mask of objects with unique values\n",
        "sam.show_masks(cmap=\"binary_r\", axis=\"off\", foreground=True)"
      ],
      "metadata": {
        "id": "QBE0NoGcz_H2"
      },
      "execution_count": null,
      "outputs": []
    },
    {
      "cell_type": "code",
      "source": [
        "# Show the object annotations (objects with random color) on the map\n",
        "sam.show_anns(axis=\"off\", alpha=1, output=\"annotations.tif\", blend=True)"
      ],
      "metadata": {
        "colab": {
          "base_uri": "https://localhost:8080/"
        },
        "id": "9Pp3weU0wP5b",
        "outputId": "1199d4ae-85bb-40ae-d6b4-e7b22aee4ec4"
      },
      "execution_count": null,
      "outputs": [
        {
          "output_type": "stream",
          "name": "stdout",
          "text": [
            "Please run generate() first.\n"
          ]
        }
      ]
    },
    {
      "cell_type": "markdown",
      "source": [
        "### Comaprison map with a slider"
      ],
      "metadata": {
        "id": "JbcWKypK0W4m"
      }
    },
    {
      "cell_type": "code",
      "source": [
        "# Comparison map to check the efficiency of the detection\n",
        "leafmap.image_comparison(\n",
        "    'bimg.tif',\n",
        "    'masks.tif',\n",
        "    label1='Satellite image',\n",
        "    label2='Segment image',\n",
        ")"
      ],
      "metadata": {
        "id": "okUGq9Nb0Z2f"
      },
      "execution_count": null,
      "outputs": []
    },
    {
      "cell_type": "markdown",
      "source": [
        "### Polygonize the raster data  and display on the map"
      ],
      "metadata": {
        "id": "j1e1qF0V6vMt"
      }
    },
    {
      "cell_type": "code",
      "source": [
        "## vectorisation\n",
        "shapefile = \"segment.shp\"\n",
        "sam.tiff_to_vector(mask, shapefile)"
      ],
      "metadata": {
        "id": "4P0tJTWH62iI"
      },
      "execution_count": null,
      "outputs": []
    },
    {
      "cell_type": "code",
      "source": [
        "## Display the vector on the map\n",
        "map.add_vector(shapefile, layer_name='Vector')"
      ],
      "metadata": {
        "id": "k39NvBQ49Es6"
      },
      "execution_count": null,
      "outputs": []
    },
    {
      "cell_type": "code",
      "source": [
        "map"
      ],
      "metadata": {
        "id": "7F8ExvseEe90"
      },
      "execution_count": null,
      "outputs": []
    }
  ]
}
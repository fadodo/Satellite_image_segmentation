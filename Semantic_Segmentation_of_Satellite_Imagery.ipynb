{
  "nbformat": 4,
  "nbformat_minor": 0,
  "metadata": {
    "colab": {
      "provenance": [],
      "gpuType": "T4",
      "mount_file_id": "12nQrCzOsH_CSLzQrqqO73u7BFr_Evamy",
      "authorship_tag": "ABX9TyOmlyBX4av0W6vuG4Pdztsv",
      "include_colab_link": true
    },
    "kernelspec": {
      "name": "python3",
      "display_name": "Python 3"
    },
    "language_info": {
      "name": "python"
    },
    "accelerator": "GPU"
  },
  "cells": [
    {
      "cell_type": "markdown",
      "metadata": {
        "id": "view-in-github",
        "colab_type": "text"
      },
      "source": [
        "<a href=\"https://colab.research.google.com/github/fadodo/Satellite_image_segmentation/blob/main/Semantic_Segmentation_of_Satellite_Imagery.ipynb\" target=\"_parent\"><img src=\"https://colab.research.google.com/assets/colab-badge.svg\" alt=\"Open In Colab\"/></a>"
      ]
    },
    {
      "cell_type": "markdown",
      "source": [
        "# Segmentation of Satellite Imagery using CNNs and SAM\n",
        "\n",
        "\n",
        "The goal of this Google Colab project is to accurately automatically segment a satellite imagery.\n",
        "\n",
        "To achieve this, a Convolutional Neural Network (CNN) is employed in conjunction with the [Segment Anything Model (SAM)](https://segment-anything.com/), a sophisticated segmentation algorithm known for its strong performance.\n",
        "\n",
        "This Python-based implementation utilizes the leafmap library to handle and process the geospatial data, allowing users to select specific regions of interest for analysis. The algorithm has demonstrated its effectiveness in segmenting the differents objects mainly buildings.\n",
        "\n",
        "\n",
        "```\n",
        "# Make sure you use GPU runtime for this notebook. For Google Colab, go to Runtime -> Change runtime type and select GPU as the hardware accelerator.\n",
        "```\n"
      ],
      "metadata": {
        "id": "Mq99D9AYmHDq"
      }
    },
    {
      "cell_type": "markdown",
      "source": [
        "# Install the necessaries libraries and packages if not yet installed\n",
        "\n",
        "`!pip list` to check installed packages"
      ],
      "metadata": {
        "id": "cQI5uolwiNI7"
      }
    },
    {
      "cell_type": "code",
      "source": [
        "!pip install leafmap segment-geospatial groundingdino-py localtileserver -q"
      ],
      "metadata": {
        "collapsed": true,
        "id": "r4G2lddnnNM1",
        "colab": {
          "base_uri": "https://localhost:8080/"
        },
        "outputId": "addc9e12-ec25-4128-d70b-20c1f05c6728"
      },
      "execution_count": null,
      "outputs": [
        {
          "output_type": "stream",
          "name": "stdout",
          "text": [
            "\u001b[?25l     \u001b[90m━━━━━━━━━━━━━━━━━━━━━━━━━━━━━━━━━━━━━━━━\u001b[0m \u001b[32m0.0/82.3 kB\u001b[0m \u001b[31m?\u001b[0m eta \u001b[36m-:--:--\u001b[0m\r\u001b[2K     \u001b[90m━━━━━━━━━━━━━━━━━━━━━━━━━━━━━━━━━━━━━━━━\u001b[0m \u001b[32m82.3/82.3 kB\u001b[0m \u001b[31m3.6 MB/s\u001b[0m eta \u001b[36m0:00:00\u001b[0m\n",
            "\u001b[?25h  Preparing metadata (setup.py) ... \u001b[?25l\u001b[?25hdone\n",
            "\u001b[2K     \u001b[90m━━━━━━━━━━━━━━━━━━━━━━━━━━━━━━━━━━━━━━━━\u001b[0m \u001b[32m56.6/56.6 kB\u001b[0m \u001b[31m4.7 MB/s\u001b[0m eta \u001b[36m0:00:00\u001b[0m\n",
            "\u001b[2K     \u001b[90m━━━━━━━━━━━━━━━━━━━━━━━━━━━━━━━━━━━━━━\u001b[0m \u001b[32m152.8/152.8 kB\u001b[0m \u001b[31m10.1 MB/s\u001b[0m eta \u001b[36m0:00:00\u001b[0m\n",
            "\u001b[?25h  Installing build dependencies ... \u001b[?25l\u001b[?25hdone\n",
            "  Getting requirements to build wheel ... \u001b[?25l\u001b[?25hdone\n",
            "  Preparing metadata (pyproject.toml) ... \u001b[?25l\u001b[?25hdone\n",
            "\u001b[2K     \u001b[90m━━━━━━━━━━━━━━━━━━━━━━━━━━━━━━━━━━━━━━━━\u001b[0m \u001b[32m46.8/46.8 kB\u001b[0m \u001b[31m4.2 MB/s\u001b[0m eta \u001b[36m0:00:00\u001b[0m\n",
            "\u001b[2K     \u001b[90m━━━━━━━━━━━━━━━━━━━━━━━━━━━━━━━━━━━━━━━━\u001b[0m \u001b[32m42.2/42.2 kB\u001b[0m \u001b[31m3.5 MB/s\u001b[0m eta \u001b[36m0:00:00\u001b[0m\n",
            "\u001b[?25h  Preparing metadata (setup.py) ... \u001b[?25l\u001b[?25hdone\n",
            "\u001b[2K     \u001b[90m━━━━━━━━━━━━━━━━━━━━━━━━━━━━━━━━━━━━━━\u001b[0m \u001b[32m117.0/117.0 kB\u001b[0m \u001b[31m10.7 MB/s\u001b[0m eta \u001b[36m0:00:00\u001b[0m\n",
            "\u001b[?25h  Preparing metadata (setup.py) ... \u001b[?25l\u001b[?25hdone\n",
            "\u001b[2K   \u001b[90m━━━━━━━━━━━━━━━━━━━━━━━━━━━━━━━━━━━━━━━━\u001b[0m \u001b[32m537.2/537.2 kB\u001b[0m \u001b[31m27.7 MB/s\u001b[0m eta \u001b[36m0:00:00\u001b[0m\n",
            "\u001b[2K   \u001b[90m━━━━━━━━━━━━━━━━━━━━━━━━━━━━━━━━━━━━━━━━\u001b[0m \u001b[32m87.8/87.8 kB\u001b[0m \u001b[31m8.0 MB/s\u001b[0m eta \u001b[36m0:00:00\u001b[0m\n",
            "\u001b[2K   \u001b[90m━━━━━━━━━━━━━━━━━━━━━━━━━━━━━━━━━━━━━━━━\u001b[0m \u001b[32m17.1/17.1 MB\u001b[0m \u001b[31m93.2 MB/s\u001b[0m eta \u001b[36m0:00:00\u001b[0m\n",
            "\u001b[2K   \u001b[90m━━━━━━━━━━━━━━━━━━━━━━━━━━━━━━━━━━━━━━━━\u001b[0m \u001b[32m2.8/2.8 MB\u001b[0m \u001b[31m90.7 MB/s\u001b[0m eta \u001b[36m0:00:00\u001b[0m\n",
            "\u001b[2K   \u001b[90m━━━━━━━━━━━━━━━━━━━━━━━━━━━━━━━━━━━━━━━━\u001b[0m \u001b[32m220.7/220.7 kB\u001b[0m \u001b[31m19.4 MB/s\u001b[0m eta \u001b[36m0:00:00\u001b[0m\n",
            "\u001b[2K   \u001b[90m━━━━━━━━━━━━━━━━━━━━━━━━━━━━━━━━━━━━━━━━\u001b[0m \u001b[32m17.3/17.3 MB\u001b[0m \u001b[31m97.7 MB/s\u001b[0m eta \u001b[36m0:00:00\u001b[0m\n",
            "\u001b[2K   \u001b[90m━━━━━━━━━━━━━━━━━━━━━━━━━━━━━━━━━━━━━━━━\u001b[0m \u001b[32m515.7/515.7 kB\u001b[0m \u001b[31m37.5 MB/s\u001b[0m eta \u001b[36m0:00:00\u001b[0m\n",
            "\u001b[2K   \u001b[90m━━━━━━━━━━━━━━━━━━━━━━━━━━━━━━━━━━━━━━━━\u001b[0m \u001b[32m7.7/7.7 MB\u001b[0m \u001b[31m96.8 MB/s\u001b[0m eta \u001b[36m0:00:00\u001b[0m\n",
            "\u001b[2K   \u001b[90m━━━━━━━━━━━━━━━━━━━━━━━━━━━━━━━━━━━━━━━━\u001b[0m \u001b[32m86.3/86.3 kB\u001b[0m \u001b[31m8.1 MB/s\u001b[0m eta \u001b[36m0:00:00\u001b[0m\n",
            "\u001b[2K   \u001b[90m━━━━━━━━━━━━━━━━━━━━━━━━━━━━━━━━━━━━━━━━\u001b[0m \u001b[32m41.4/41.4 kB\u001b[0m \u001b[31m3.6 MB/s\u001b[0m eta \u001b[36m0:00:00\u001b[0m\n",
            "\u001b[2K   \u001b[90m━━━━━━━━━━━━━━━━━━━━━━━━━━━━━━━━━━━━━━━━\u001b[0m \u001b[32m22.2/22.2 MB\u001b[0m \u001b[31m20.5 MB/s\u001b[0m eta \u001b[36m0:00:00\u001b[0m\n",
            "\u001b[2K   \u001b[90m━━━━━━━━━━━━━━━━━━━━━━━━━━━━━━━━━━━━━━━━\u001b[0m \u001b[32m268.2/268.2 kB\u001b[0m \u001b[31m17.3 MB/s\u001b[0m eta \u001b[36m0:00:00\u001b[0m\n",
            "\u001b[2K   \u001b[90m━━━━━━━━━━━━━━━━━━━━━━━━━━━━━━━━━━━━━━━━\u001b[0m \u001b[32m61.9/61.9 kB\u001b[0m \u001b[31m5.5 MB/s\u001b[0m eta \u001b[36m0:00:00\u001b[0m\n",
            "\u001b[2K   \u001b[90m━━━━━━━━━━━━━━━━━━━━━━━━━━━━━━━━━━━━━━━━\u001b[0m \u001b[32m53.0/53.0 kB\u001b[0m \u001b[31m98.0 kB/s\u001b[0m eta \u001b[36m0:00:00\u001b[0m\n",
            "\u001b[2K   \u001b[90m━━━━━━━━━━━━━━━━━━━━━━━━━━━━━━━━━━━━━━━━\u001b[0m \u001b[32m40.5/40.5 kB\u001b[0m \u001b[31m3.4 MB/s\u001b[0m eta \u001b[36m0:00:00\u001b[0m\n",
            "\u001b[2K   \u001b[90m━━━━━━━━━━━━━━━━━━━━━━━━━━━━━━━━━━━━━━━━\u001b[0m \u001b[32m108.6/108.6 kB\u001b[0m \u001b[31m10.2 MB/s\u001b[0m eta \u001b[36m0:00:00\u001b[0m\n",
            "\u001b[2K   \u001b[90m━━━━━━━━━━━━━━━━━━━━━━━━━━━━━━━━━━━━━━━━\u001b[0m \u001b[32m256.2/256.2 kB\u001b[0m \u001b[31m22.0 MB/s\u001b[0m eta \u001b[36m0:00:00\u001b[0m\n",
            "\u001b[2K   \u001b[90m━━━━━━━━━━━━━━━━━━━━━━━━━━━━━━━━━━━━━━━━\u001b[0m \u001b[32m52.8/52.8 kB\u001b[0m \u001b[31m4.6 MB/s\u001b[0m eta \u001b[36m0:00:00\u001b[0m\n",
            "\u001b[2K   \u001b[90m━━━━━━━━━━━━━━━━━━━━━━━━━━━━━━━━━━━━━━━━\u001b[0m \u001b[32m154.5/154.5 kB\u001b[0m \u001b[31m11.5 MB/s\u001b[0m eta \u001b[36m0:00:00\u001b[0m\n",
            "\u001b[2K   \u001b[90m━━━━━━━━━━━━━━━━━━━━━━━━━━━━━━━━━━━━━━━━\u001b[0m \u001b[32m2.7/2.7 MB\u001b[0m \u001b[31m67.1 MB/s\u001b[0m eta \u001b[36m0:00:00\u001b[0m\n",
            "\u001b[2K   \u001b[90m━━━━━━━━━━━━━━━━━━━━━━━━━━━━━━━━━━━━━━━━\u001b[0m \u001b[32m49.5/49.5 kB\u001b[0m \u001b[31m4.4 MB/s\u001b[0m eta \u001b[36m0:00:00\u001b[0m\n",
            "\u001b[2K   \u001b[90m━━━━━━━━━━━━━━━━━━━━━━━━━━━━━━━━━━━━━━━━\u001b[0m \u001b[32m765.5/765.5 kB\u001b[0m \u001b[31m48.8 MB/s\u001b[0m eta \u001b[36m0:00:00\u001b[0m\n",
            "\u001b[2K   \u001b[90m━━━━━━━━━━━━━━━━━━━━━━━━━━━━━━━━━━━━━━━━\u001b[0m \u001b[32m194.2/194.2 kB\u001b[0m \u001b[31m16.5 MB/s\u001b[0m eta \u001b[36m0:00:00\u001b[0m\n",
            "\u001b[2K   \u001b[90m━━━━━━━━━━━━━━━━━━━━━━━━━━━━━━━━━━━━━━━━\u001b[0m \u001b[32m195.2/195.2 kB\u001b[0m \u001b[31m18.5 MB/s\u001b[0m eta \u001b[36m0:00:00\u001b[0m\n",
            "\u001b[2K   \u001b[90m━━━━━━━━━━━━━━━━━━━━━━━━━━━━━━━━━━━━━━━━\u001b[0m \u001b[32m62.3/62.3 kB\u001b[0m \u001b[31m5.8 MB/s\u001b[0m eta \u001b[36m0:00:00\u001b[0m\n",
            "\u001b[2K   \u001b[90m━━━━━━━━━━━━━━━━━━━━━━━━━━━━━━━━━━━━━━━━\u001b[0m \u001b[32m74.0/74.0 kB\u001b[0m \u001b[31m6.7 MB/s\u001b[0m eta \u001b[36m0:00:00\u001b[0m\n",
            "\u001b[2K   \u001b[90m━━━━━━━━━━━━━━━━━━━━━━━━━━━━━━━━━━━━━━━━\u001b[0m \u001b[32m1.6/1.6 MB\u001b[0m \u001b[31m67.4 MB/s\u001b[0m eta \u001b[36m0:00:00\u001b[0m\n",
            "\u001b[2K   \u001b[90m━━━━━━━━━━━━━━━━━━━━━━━━━━━━━━━━━━━━━━━━\u001b[0m \u001b[32m79.5/79.5 kB\u001b[0m \u001b[31m7.1 MB/s\u001b[0m eta \u001b[36m0:00:00\u001b[0m\n",
            "\u001b[?25h  Building wheel for groundingdino-py (setup.py) ... \u001b[?25l\u001b[?25hdone\n",
            "  Building wheel for sam2 (pyproject.toml) ... \u001b[?25l\u001b[?25hdone\n",
            "  Building wheel for antlr4-python3-runtime (setup.py) ... \u001b[?25l\u001b[?25hdone\n",
            "  Building wheel for iopath (setup.py) ... \u001b[?25l\u001b[?25hdone\n"
          ]
        }
      ]
    },
    {
      "cell_type": "code",
      "source": [
        "# import the necessaries packages\n",
        "\n",
        "import os\n",
        "import leafmap\n",
        "from groundingdino.util.slconfig import SLConfig # Import SLConfig\n",
        "from samgeo import SamGeo, tms_to_geotiff, get_basemaps"
      ],
      "metadata": {
        "collapsed": true,
        "id": "hK69hjdcm7bW"
      },
      "execution_count": null,
      "outputs": []
    },
    {
      "cell_type": "markdown",
      "source": [
        "Create an interactive map with leafmap"
      ],
      "metadata": {
        "id": "igTbHDAgo6KO"
      }
    },
    {
      "cell_type": "code",
      "source": [
        "# Leafmap for visualization\n",
        "map=leafmap.Map(zoom=19)\n",
        "map"
      ],
      "metadata": {
        "id": "2bjnD3rko_DY"
      },
      "execution_count": null,
      "outputs": []
    },
    {
      "cell_type": "markdown",
      "source": [
        "Get automaticaly the region of interest coordinates by drawing a box on the map"
      ],
      "metadata": {
        "id": "5tOtaN_JpJk0"
      }
    },
    {
      "cell_type": "code",
      "source": [
        "# Get the Area of Interest box coordinates\n",
        "bbox=map.user_roi_bounds()\n",
        "bbox"
      ],
      "metadata": {
        "colab": {
          "base_uri": "https://localhost:8080/"
        },
        "id": "x-iF7TkapYhi",
        "outputId": "02bd4f00-4f26-48de-9713-c022e5c9f7e6"
      },
      "execution_count": null,
      "outputs": [
        {
          "output_type": "execute_result",
          "data": {
            "text/plain": [
              "[39.2751, -6.8128, 39.2775, -6.8106]"
            ]
          },
          "metadata": {},
          "execution_count": 7
        }
      ]
    },
    {
      "cell_type": "code",
      "source": [
        "# You can also manually define the ROI coordinate as follow\n",
        "# Bbox on a small part of Dar El Salaam\n",
        "bbox = [39.2751, -6.8128, 39.2775, -6.8106]"
      ],
      "metadata": {
        "id": "hzcCHZYI91I7"
      },
      "execution_count": null,
      "outputs": []
    },
    {
      "cell_type": "markdown",
      "source": [
        "Downlading the satellite images of the ROI"
      ],
      "metadata": {
        "id": "IfvcUHg2p0xI"
      }
    },
    {
      "cell_type": "code",
      "source": [
        "# Downlading the satellite image of the ROI and mosaic it\n",
        "img=\"bimg.tif\"\n",
        "tms_to_geotiff(output=img, bbox=bbox, zoom=20, source=\"SATELLITE\", overwrite=True)"
      ],
      "metadata": {
        "collapsed": true,
        "id": "iuRdcp2sqAzN",
        "colab": {
          "base_uri": "https://localhost:8080/"
        },
        "outputId": "43a04adc-36bb-4115-86e4-a385d6175b6c"
      },
      "execution_count": null,
      "outputs": [
        {
          "output_type": "stream",
          "name": "stdout",
          "text": [
            "Downloaded image 01/56\n",
            "Downloaded image 02/56\n",
            "Downloaded image 03/56\n",
            "Downloaded image 04/56\n",
            "Downloaded image 05/56\n",
            "Downloaded image 06/56\n",
            "Downloaded image 07/56\n",
            "Downloaded image 08/56\n",
            "Downloaded image 09/56\n",
            "Downloaded image 10/56\n",
            "Downloaded image 11/56\n",
            "Downloaded image 12/56\n",
            "Downloaded image 13/56\n",
            "Downloaded image 14/56\n",
            "Downloaded image 15/56\n",
            "Downloaded image 16/56\n",
            "Downloaded image 17/56\n",
            "Downloaded image 18/56\n",
            "Downloaded image 19/56\n",
            "Downloaded image 20/56\n",
            "Downloaded image 21/56\n",
            "Downloaded image 22/56\n",
            "Downloaded image 23/56\n",
            "Downloaded image 24/56\n",
            "Downloaded image 25/56\n",
            "Downloaded image 26/56\n",
            "Downloaded image 27/56\n",
            "Downloaded image 28/56\n",
            "Downloaded image 29/56\n",
            "Downloaded image 30/56\n",
            "Downloaded image 31/56\n",
            "Downloaded image 32/56\n",
            "Downloaded image 33/56\n",
            "Downloaded image 34/56\n",
            "Downloaded image 35/56\n",
            "Downloaded image 36/56\n",
            "Downloaded image 37/56\n",
            "Downloaded image 38/56\n",
            "Downloaded image 39/56\n",
            "Downloaded image 40/56\n",
            "Downloaded image 41/56\n",
            "Downloaded image 42/56\n",
            "Downloaded image 43/56\n",
            "Downloaded image 44/56\n",
            "Downloaded image 45/56\n",
            "Downloaded image 46/56\n",
            "Downloaded image 47/56\n",
            "Downloaded image 48/56\n",
            "Downloaded image 49/56\n",
            "Downloaded image 50/56\n",
            "Downloaded image 51/56\n",
            "Downloaded image 52/56\n",
            "Downloaded image 53/56\n",
            "Downloaded image 54/56\n",
            "Downloaded image 55/56\n",
            "Downloaded image 56/56\n",
            "Saving GeoTIFF. Please wait...\n",
            "Image saved to bimg.tif\n"
          ]
        }
      ]
    },
    {
      "cell_type": "markdown",
      "source": [
        "Display the downloaded image on the map"
      ],
      "metadata": {
        "id": "9-_Bb7ztql-2"
      }
    },
    {
      "cell_type": "code",
      "source": [
        "# Adding the satellite mosaic\n",
        "map.add_raster(img, layer_name=\"AOImage\")\n",
        "map"
      ],
      "metadata": {
        "id": "IJ653JtjqtGm"
      },
      "execution_count": null,
      "outputs": []
    },
    {
      "cell_type": "markdown",
      "source": [
        "### Initialize SAM class¶\n",
        "The main class for segmenting geospatial data with the Segment Anything Model (SAM)."
      ],
      "metadata": {
        "id": "rfp9f9RinBT7"
      }
    },
    {
      "cell_type": "code",
      "source": [
        "# Automatic parameters tunning for mask generation\n",
        "sam_kwargs = {\n",
        "    \"points_per_side\": 32,\n",
        "    \"pred_iou_thresh\": 0.86,\n",
        "    \"stability_score_thresh\": 0.92,\n",
        "    \"crop_n_layers\": 1,\n",
        "    \"crop_n_points_downscale_factor\": 2,\n",
        "    \"min_mask_region_area\": 100,\n",
        "}"
      ],
      "metadata": {
        "id": "yZyl_WVWvzVn"
      },
      "execution_count": null,
      "outputs": []
    },
    {
      "cell_type": "code",
      "source": [
        "# Initialize SAM all class\n",
        "## There a model checkpoit(default vit_h, vit_l, vit_b)\n",
        "sam = SamGeo(\n",
        "    model_type=\"vit_h\",\n",
        "    checkpoint=\"sam_vit_h_4b8939.pth\",\n",
        "    sam_kwargs=sam_kwargs,\n",
        ")"
      ],
      "metadata": {
        "id": "d-j6SwafsVMP"
      },
      "execution_count": null,
      "outputs": []
    },
    {
      "cell_type": "markdown",
      "source": [
        "### Segment the image"
      ],
      "metadata": {
        "id": "F9zS010154VF"
      }
    },
    {
      "cell_type": "code",
      "source": [
        "# Automatic mask generation\n",
        "mask=\"masks.tif\"\n",
        "sam.generate(img, output=mask, batch=True, foreground=True, erosion_kernel=(3, 3), mask_multiplier=255, unique=True)"
      ],
      "metadata": {
        "id": "V1A83d1ovJj7",
        "colab": {
          "base_uri": "https://localhost:8080/"
        },
        "outputId": "38a38175-fdc3-4070-d95a-c312ba97ff01"
      },
      "execution_count": null,
      "outputs": [
        {
          "output_type": "stream",
          "name": "stderr",
          "text": [
            "100%|██████████| 16/16 [06:07<00:00, 23.00s/it]\n"
          ]
        }
      ]
    },
    {
      "cell_type": "markdown",
      "source": [
        "### Visualize the results"
      ],
      "metadata": {
        "id": "ZFALHQEewJyO"
      }
    },
    {
      "cell_type": "code",
      "source": [
        "# Visualize the results\n",
        "# Show the binary mask or the mask of objects with unique values\n",
        "sam.show_masks(cmap=\"binary_r\", axis=\"off\", foreground=True)"
      ],
      "metadata": {
        "id": "QBE0NoGcz_H2"
      },
      "execution_count": null,
      "outputs": []
    },
    {
      "cell_type": "code",
      "source": [
        "# Show the object annotations (objects with random color) on the map\n",
        "sam.show_anns(axis=\"off\", alpha=1, output=\"annotations.tif\", blend=True)"
      ],
      "metadata": {
        "colab": {
          "base_uri": "https://localhost:8080/"
        },
        "id": "9Pp3weU0wP5b",
        "outputId": "1199d4ae-85bb-40ae-d6b4-e7b22aee4ec4"
      },
      "execution_count": null,
      "outputs": [
        {
          "output_type": "stream",
          "name": "stdout",
          "text": [
            "Please run generate() first.\n"
          ]
        }
      ]
    },
    {
      "cell_type": "markdown",
      "source": [
        "### Comaprison map with a slider"
      ],
      "metadata": {
        "id": "JbcWKypK0W4m"
      }
    },
    {
      "cell_type": "code",
      "source": [
        "# Comparison map to check the efficiency of the detection\n",
        "leafmap.image_comparison(\n",
        "    'bimg.tif',\n",
        "    'masks.tif',\n",
        "    label1='Satellite image',\n",
        "    label2='Segment image',\n",
        ")"
      ],
      "metadata": {
        "id": "okUGq9Nb0Z2f"
      },
      "execution_count": null,
      "outputs": []
    },
    {
      "cell_type": "markdown",
      "source": [
        "### Polygonize the raster data  and display on the map"
      ],
      "metadata": {
        "id": "j1e1qF0V6vMt"
      }
    },
    {
      "cell_type": "code",
      "source": [
        "## vectorisation\n",
        "shapefile = \"segment.shp\"\n",
        "sam.tiff_to_vector(mask, shapefile)"
      ],
      "metadata": {
        "id": "4P0tJTWH62iI"
      },
      "execution_count": null,
      "outputs": []
    },
    {
      "cell_type": "code",
      "source": [
        "## Display the vector on the map\n",
        "map.add_vector(shapefile, layer_name='Vector')"
      ],
      "metadata": {
        "id": "k39NvBQ49Es6"
      },
      "execution_count": null,
      "outputs": []
    },
    {
      "cell_type": "code",
      "source": [
        "map"
      ],
      "metadata": {
        "id": "7F8ExvseEe90"
      },
      "execution_count": null,
      "outputs": []
    }
  ]
}